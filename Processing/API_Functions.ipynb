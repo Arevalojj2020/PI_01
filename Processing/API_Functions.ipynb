{
 "cells": [
  {
   "attachments": {},
   "cell_type": "markdown",
   "metadata": {},
   "source": [
    "#### Import the modules that we will use in our API functions"
   ]
  },
  {
   "cell_type": "code",
   "execution_count": 2,
   "metadata": {},
   "outputs": [],
   "source": [
    "import numpy as np\n",
    "import pandas as pd\n",
    "import random"
   ]
  },
  {
   "attachments": {},
   "cell_type": "markdown",
   "metadata": {},
   "source": [
    "#### Load clean dataset"
   ]
  },
  {
   "cell_type": "code",
   "execution_count": 33,
   "metadata": {},
   "outputs": [],
   "source": [
    "clean_dataset = pd.read_csv(\"../datasets/clean_movies_dataset.csv\")"
   ]
  },
  {
   "attachments": {},
   "cell_type": "markdown",
   "metadata": {},
   "source": [
    "#### Take a look at the clean dataset"
   ]
  },
  {
   "cell_type": "code",
   "execution_count": 4,
   "metadata": {},
   "outputs": [
    {
     "data": {
      "text/html": [
       "<div>\n",
       "<style scoped>\n",
       "    .dataframe tbody tr th:only-of-type {\n",
       "        vertical-align: middle;\n",
       "    }\n",
       "\n",
       "    .dataframe tbody tr th {\n",
       "        vertical-align: top;\n",
       "    }\n",
       "\n",
       "    .dataframe thead th {\n",
       "        text-align: right;\n",
       "    }\n",
       "</style>\n",
       "<table border=\"1\" class=\"dataframe\">\n",
       "  <thead>\n",
       "    <tr style=\"text-align: right;\">\n",
       "      <th></th>\n",
       "      <th>id</th>\n",
       "      <th>belongs_to_collection</th>\n",
       "      <th>genres</th>\n",
       "      <th>original_language</th>\n",
       "      <th>overview</th>\n",
       "      <th>popularity</th>\n",
       "      <th>production_companies</th>\n",
       "      <th>production_countries</th>\n",
       "      <th>release_date</th>\n",
       "      <th>release_year</th>\n",
       "      <th>...</th>\n",
       "      <th>release_weekday</th>\n",
       "      <th>revenue</th>\n",
       "      <th>budget</th>\n",
       "      <th>return</th>\n",
       "      <th>runtime</th>\n",
       "      <th>spoken_languages</th>\n",
       "      <th>status</th>\n",
       "      <th>tagline</th>\n",
       "      <th>title</th>\n",
       "      <th>vote_average</th>\n",
       "    </tr>\n",
       "  </thead>\n",
       "  <tbody>\n",
       "    <tr>\n",
       "      <th>0</th>\n",
       "      <td>862</td>\n",
       "      <td>Toy Story Collection</td>\n",
       "      <td>['Animation', 'Comedy', 'Family']</td>\n",
       "      <td>en</td>\n",
       "      <td>Led by Woody, Andy's toys live happily in his ...</td>\n",
       "      <td>21.946943</td>\n",
       "      <td>['Pixar Animation Studios']</td>\n",
       "      <td>['United States of America']</td>\n",
       "      <td>1995-10-30</td>\n",
       "      <td>1995</td>\n",
       "      <td>...</td>\n",
       "      <td>lunes</td>\n",
       "      <td>373554033.0</td>\n",
       "      <td>30000000.0</td>\n",
       "      <td>12.451801</td>\n",
       "      <td>81.0</td>\n",
       "      <td>['English']</td>\n",
       "      <td>Released</td>\n",
       "      <td>NaN</td>\n",
       "      <td>Toy Story</td>\n",
       "      <td>7.7</td>\n",
       "    </tr>\n",
       "    <tr>\n",
       "      <th>1</th>\n",
       "      <td>8844</td>\n",
       "      <td>NaN</td>\n",
       "      <td>['Adventure', 'Fantasy', 'Family']</td>\n",
       "      <td>en</td>\n",
       "      <td>When siblings Judy and Peter discover an encha...</td>\n",
       "      <td>17.015539</td>\n",
       "      <td>['TriStar Pictures', 'Teitler Film', 'Intersco...</td>\n",
       "      <td>['United States of America']</td>\n",
       "      <td>1995-12-15</td>\n",
       "      <td>1995</td>\n",
       "      <td>...</td>\n",
       "      <td>viernes</td>\n",
       "      <td>262797249.0</td>\n",
       "      <td>65000000.0</td>\n",
       "      <td>4.043035</td>\n",
       "      <td>104.0</td>\n",
       "      <td>['English', 'Français']</td>\n",
       "      <td>Released</td>\n",
       "      <td>Roll the dice and unleash the excitement!</td>\n",
       "      <td>Jumanji</td>\n",
       "      <td>6.9</td>\n",
       "    </tr>\n",
       "    <tr>\n",
       "      <th>2</th>\n",
       "      <td>15602</td>\n",
       "      <td>Grumpy Old Men Collection</td>\n",
       "      <td>['Romance', 'Comedy']</td>\n",
       "      <td>en</td>\n",
       "      <td>A family wedding reignites the ancient feud be...</td>\n",
       "      <td>11.712900</td>\n",
       "      <td>['Warner Bros.', 'Lancaster Gate']</td>\n",
       "      <td>['United States of America']</td>\n",
       "      <td>1995-12-22</td>\n",
       "      <td>1995</td>\n",
       "      <td>...</td>\n",
       "      <td>viernes</td>\n",
       "      <td>0.0</td>\n",
       "      <td>0.0</td>\n",
       "      <td>0.000000</td>\n",
       "      <td>101.0</td>\n",
       "      <td>['English']</td>\n",
       "      <td>Released</td>\n",
       "      <td>Still Yelling. Still Fighting. Still Ready for...</td>\n",
       "      <td>Grumpier Old Men</td>\n",
       "      <td>6.5</td>\n",
       "    </tr>\n",
       "  </tbody>\n",
       "</table>\n",
       "<p>3 rows × 21 columns</p>\n",
       "</div>"
      ],
      "text/plain": [
       "      id      belongs_to_collection                              genres  \\\n",
       "0    862       Toy Story Collection   ['Animation', 'Comedy', 'Family']   \n",
       "1   8844                        NaN  ['Adventure', 'Fantasy', 'Family']   \n",
       "2  15602  Grumpy Old Men Collection               ['Romance', 'Comedy']   \n",
       "\n",
       "  original_language                                           overview  \\\n",
       "0                en  Led by Woody, Andy's toys live happily in his ...   \n",
       "1                en  When siblings Judy and Peter discover an encha...   \n",
       "2                en  A family wedding reignites the ancient feud be...   \n",
       "\n",
       "   popularity                               production_companies  \\\n",
       "0   21.946943                        ['Pixar Animation Studios']   \n",
       "1   17.015539  ['TriStar Pictures', 'Teitler Film', 'Intersco...   \n",
       "2   11.712900                 ['Warner Bros.', 'Lancaster Gate']   \n",
       "\n",
       "           production_countries release_date  release_year  ...  \\\n",
       "0  ['United States of America']   1995-10-30          1995  ...   \n",
       "1  ['United States of America']   1995-12-15          1995  ...   \n",
       "2  ['United States of America']   1995-12-22          1995  ...   \n",
       "\n",
       "  release_weekday      revenue      budget     return  runtime  \\\n",
       "0           lunes  373554033.0  30000000.0  12.451801     81.0   \n",
       "1         viernes  262797249.0  65000000.0   4.043035    104.0   \n",
       "2         viernes          0.0         0.0   0.000000    101.0   \n",
       "\n",
       "          spoken_languages    status  \\\n",
       "0              ['English']  Released   \n",
       "1  ['English', 'Français']  Released   \n",
       "2              ['English']  Released   \n",
       "\n",
       "                                             tagline             title  \\\n",
       "0                                                NaN         Toy Story   \n",
       "1          Roll the dice and unleash the excitement!           Jumanji   \n",
       "2  Still Yelling. Still Fighting. Still Ready for...  Grumpier Old Men   \n",
       "\n",
       "  vote_average  \n",
       "0          7.7  \n",
       "1          6.9  \n",
       "2          6.5  \n",
       "\n",
       "[3 rows x 21 columns]"
      ]
     },
     "execution_count": 4,
     "metadata": {},
     "output_type": "execute_result"
    }
   ],
   "source": [
    "clean_dataset.head(3)"
   ]
  },
  {
   "cell_type": "code",
   "execution_count": 5,
   "metadata": {},
   "outputs": [
    {
     "name": "stdout",
     "output_type": "stream",
     "text": [
      "<class 'pandas.core.frame.DataFrame'>\n",
      "RangeIndex: 45376 entries, 0 to 45375\n",
      "Data columns (total 21 columns):\n",
      " #   Column                 Non-Null Count  Dtype  \n",
      "---  ------                 --------------  -----  \n",
      " 0   id                     45376 non-null  int64  \n",
      " 1   belongs_to_collection  4488 non-null   object \n",
      " 2   genres                 42992 non-null  object \n",
      " 3   original_language      45365 non-null  object \n",
      " 4   overview               44435 non-null  object \n",
      " 5   popularity             45376 non-null  float64\n",
      " 6   production_companies   33580 non-null  object \n",
      " 7   production_countries   39165 non-null  object \n",
      " 8   release_date           45376 non-null  object \n",
      " 9   release_year           45376 non-null  int64  \n",
      " 10  release_month          45376 non-null  object \n",
      " 11  release_weekday        45376 non-null  object \n",
      " 12  revenue                45376 non-null  float64\n",
      " 13  budget                 45376 non-null  float64\n",
      " 14  return                 45376 non-null  float64\n",
      " 15  runtime                45130 non-null  float64\n",
      " 16  spoken_languages       41608 non-null  object \n",
      " 17  status                 45296 non-null  object \n",
      " 18  tagline                20398 non-null  object \n",
      " 19  title                  45376 non-null  object \n",
      " 20  vote_average           45376 non-null  float64\n",
      "dtypes: float64(6), int64(2), object(13)\n",
      "memory usage: 7.3+ MB\n"
     ]
    }
   ],
   "source": [
    "clean_dataset.info()"
   ]
  },
  {
   "attachments": {},
   "cell_type": "markdown",
   "metadata": {},
   "source": [
    "#### Create function that return the historical movies per month"
   ]
  },
  {
   "cell_type": "code",
   "execution_count": 71,
   "metadata": {},
   "outputs": [],
   "source": [
    "def peliculas_mes(mes):\n",
    "    \n",
    "    months = list(clean_dataset[\"release_month\"].unique())\n",
    "    mes = mes.lower()\n",
    "    if mes in months:\n",
    "        month_movies = clean_dataset.loc[clean_dataset[\"release_month\"] == mes].count()\n",
    "        return {\"mes\" : mes, \"cantidad\" : month_movies[\"release_month\"]}\n",
    "    else: return \"Ingrese un mes válido\""
   ]
  },
  {
   "attachments": {},
   "cell_type": "markdown",
   "metadata": {},
   "source": [
    "#### Test function"
   ]
  },
  {
   "cell_type": "code",
   "execution_count": 74,
   "metadata": {},
   "outputs": [
    {
     "name": "stdout",
     "output_type": "stream",
     "text": [
      "{'mes': 'febrero', 'cantidad': 3032}\n",
      "Ingrese un mes válido\n",
      "{'mes': 'diciembre', 'cantidad': 3786}\n"
     ]
    }
   ],
   "source": [
    "month = list(clean_dataset[\"release_month\"].unique())\n",
    "random_month = random.choice(month)\n",
    "random_month\n",
    "print(peliculas_mes(random_month))\n",
    "print(peliculas_mes(\"asjnfca\"))\n",
    "print(peliculas_mes(\"DICiemBre\"))"
   ]
  },
  {
   "attachments": {},
   "cell_type": "markdown",
   "metadata": {},
   "source": [
    "#### Create function that return the historical movies per day"
   ]
  },
  {
   "cell_type": "code",
   "execution_count": 76,
   "metadata": {},
   "outputs": [],
   "source": [
    "def peliculas_dia(dia):\n",
    "    \n",
    "    days = list(clean_dataset[\"release_weekday\"].unique())\n",
    "    dia = dia.lower()\n",
    "    if dia in days:\n",
    "        weekday_movies = clean_dataset.loc[clean_dataset[\"release_weekday\"] == dia].count()\n",
    "        return {\"dia\" : dia, \"cantidad\" : weekday_movies[\"release_weekday\"]}\n",
    "    else: return \"Ingrese un dia válido\""
   ]
  },
  {
   "attachments": {},
   "cell_type": "markdown",
   "metadata": {},
   "source": [
    "#### Test function"
   ]
  },
  {
   "cell_type": "code",
   "execution_count": 79,
   "metadata": {},
   "outputs": [
    {
     "name": "stdout",
     "output_type": "stream",
     "text": [
      "{'dia': 'sábado', 'cantidad': 5151}\n",
      "Ingrese un dia válido\n",
      "{'dia': 'martes', 'cantidad': 4641}\n"
     ]
    }
   ],
   "source": [
    "weekday = list(clean_dataset[\"release_weekday\"].unique())\n",
    "random_weekday = random.choice(weekday)\n",
    "random_weekday\n",
    "print(peliculas_dia(random_weekday))\n",
    "print(peliculas_dia(\"aasndj\"))\n",
    "print(peliculas_dia(\"MARTEs\"))"
   ]
  },
  {
   "attachments": {},
   "cell_type": "markdown",
   "metadata": {},
   "source": [
    "#### Create a function that return the number of movies, total and average earnings per franchise"
   ]
  },
  {
   "cell_type": "code",
   "execution_count": 96,
   "metadata": {},
   "outputs": [],
   "source": [
    "def franquicia(franquicia):\n",
    "    \n",
    "    franchise = clean_dataset[\"belongs_to_collection\"].unique()\n",
    "    franchise = list(franchise)\n",
    "    if franquicia in franchise:\n",
    "        franchise = clean_dataset.loc[clean_dataset[\"belongs_to_collection\"] == franquicia]\n",
    "        count = franchise[\"belongs_to_collection\"].count()\n",
    "        total_earning = franchise[\"revenue\"].sum()\n",
    "        earning_mean = franchise[\"revenue\"].mean()\n",
    "        return {\"franquicia\" : franquicia, \"cantidad\" : count, \"ganancia_total\" : round(total_earning, 2), \"ganancia_promedio\" : round(earning_mean, 2)}\n",
    "    \n",
    "    else: return \"Ingrese una franquicia válida\""
   ]
  },
  {
   "attachments": {},
   "cell_type": "markdown",
   "metadata": {},
   "source": [
    "#### Test function"
   ]
  },
  {
   "cell_type": "code",
   "execution_count": 123,
   "metadata": {},
   "outputs": [
    {
     "name": "stdout",
     "output_type": "stream",
     "text": [
      "{'franquicia': 'Subspecies Collection', 'cantidad': 5, 'ganancia_total': 0.0, 'ganancia_promedio': 0.0}\n",
      "Ingrese una franquicia válida\n"
     ]
    }
   ],
   "source": [
    "franchise = clean_dataset[\"belongs_to_collection\"].unique()\n",
    "franchise = list(franchise)\n",
    "random_franchise = random.choice(franchise)\n",
    "random_franchise\n",
    "print(franquicia(random_franchise))\n",
    "print(franquicia(\"dkmvk\"))"
   ]
  },
  {
   "attachments": {},
   "cell_type": "markdown",
   "metadata": {},
   "source": [
    "#### Create a function that return the movies per country"
   ]
  },
  {
   "cell_type": "code",
   "execution_count": 51,
   "metadata": {},
   "outputs": [],
   "source": [
    "def peliculas_pais(pais):\n",
    "    \n",
    "    clean_dataset[\"production_countries\"] = clean_dataset[\"production_countries\"].fillna(\"\")\n",
    "    country = clean_dataset.loc[clean_dataset[\"production_countries\"].str.contains(pais)]\n",
    "    count = country[\"production_countries\"].count()\n",
    "    if count == 0:\n",
    "        return \"Ingrese un país válido\"\n",
    "    else: return {\"pais\" : pais, \"cantidad\" : count}"
   ]
  },
  {
   "attachments": {},
   "cell_type": "markdown",
   "metadata": {},
   "source": [
    "#### Test function"
   ]
  },
  {
   "cell_type": "code",
   "execution_count": 52,
   "metadata": {},
   "outputs": [
    {
     "data": {
      "text/plain": [
       "0                             ['United States of America']\n",
       "1                             ['United States of America']\n",
       "2                             ['United States of America']\n",
       "3                             ['United States of America']\n",
       "4                             ['United States of America']\n",
       "                               ...                        \n",
       "45371    ['Canada', 'Germany', 'United Kingdom', 'Unite...\n",
       "45372                                      ['Philippines']\n",
       "45373                         ['United States of America']\n",
       "45374                                           ['Russia']\n",
       "45375                                   ['United Kingdom']\n",
       "Name: production_countries, Length: 45376, dtype: object"
      ]
     },
     "execution_count": 52,
     "metadata": {},
     "output_type": "execute_result"
    }
   ],
   "source": [
    "clean_dataset[\"production_countries\"]"
   ]
  },
  {
   "cell_type": "code",
   "execution_count": 57,
   "metadata": {},
   "outputs": [
    {
     "name": "stdout",
     "output_type": "stream",
     "text": [
      "{'pais': 'United Kingdom', 'cantidad': 4091}\n",
      "{'pais': 'Canada', 'cantidad': 1765}\n",
      "{'pais': 'Germany', 'cantidad': 2260}\n",
      "{'pais': 'Philippines', 'cantidad': 83}\n",
      "{'pais': 'Russia', 'cantidad': 911}\n",
      "{'pais': 'United States of America', 'cantidad': 21147}\n",
      "Ingrese un país válido\n"
     ]
    }
   ],
   "source": [
    "print(peliculas_pais(\"United Kingdom\"))\n",
    "print(peliculas_pais(\"Canada\"))\n",
    "print(peliculas_pais(\"Germany\"))\n",
    "print(peliculas_pais(\"Philippines\"))\n",
    "print(peliculas_pais(\"Russia\"))\n",
    "print(peliculas_pais(\"United States of America\"))\n",
    "print(peliculas_pais(\"vasijn\"))"
   ]
  },
  {
   "attachments": {},
   "cell_type": "markdown",
   "metadata": {},
   "source": [
    "#### Create a function that return the total earnings and movies per company"
   ]
  },
  {
   "cell_type": "code",
   "execution_count": 62,
   "metadata": {},
   "outputs": [],
   "source": [
    "def productoras(productora):\n",
    "    \n",
    "    clean_dataset[\"production_companies\"] = clean_dataset[\"production_companies\"].fillna(\"\")\n",
    "    company = clean_dataset.loc[clean_dataset[\"production_companies\"].str.contains(productora)]\n",
    "    count = company[\"production_companies\"].count()\n",
    "    total_earning = company[\"revenue\"].sum()\n",
    "    if count == 0:\n",
    "        return \"Ingrese una productora válida\"\n",
    "    else: return {\"productora\" : productora, \"ganancia_total\" : round(total_earning, 2), \"cantidad\" : count}"
   ]
  },
  {
   "attachments": {},
   "cell_type": "markdown",
   "metadata": {},
   "source": [
    "#### Test function"
   ]
  },
  {
   "cell_type": "code",
   "execution_count": 60,
   "metadata": {},
   "outputs": [
    {
     "data": {
      "text/plain": [
       "0                              ['Pixar Animation Studios']\n",
       "1        ['TriStar Pictures', 'Teitler Film', 'Intersco...\n",
       "2                       ['Warner Bros.', 'Lancaster Gate']\n",
       "3               ['Twentieth Century Fox Film Corporation']\n",
       "4         ['Sandollar Productions', 'Touchstone Pictures']\n",
       "                               ...                        \n",
       "45371    ['Westdeutscher Rundfunk (WDR)', 'Working Titl...\n",
       "45372                                      ['Sine Olivia']\n",
       "45373                          ['American World Pictures']\n",
       "45374                                        ['Yermoliev']\n",
       "45375                                                  NaN\n",
       "Name: production_companies, Length: 45376, dtype: object"
      ]
     },
     "execution_count": 60,
     "metadata": {},
     "output_type": "execute_result"
    }
   ],
   "source": [
    "clean_dataset[\"production_companies\"]"
   ]
  },
  {
   "cell_type": "code",
   "execution_count": 65,
   "metadata": {},
   "outputs": [
    {
     "name": "stdout",
     "output_type": "stream",
     "text": [
      "{'productora': 'Pixar Animation Studios', 'ganancia_total': 11188533734.0, 'cantidad': 52}\n",
      "{'productora': 'TriStar Pictures', 'ganancia_total': 8022366764.0, 'cantidad': 197}\n",
      "{'productora': 'Teitler Film', 'ganancia_total': 327118750.0, 'cantidad': 2}\n",
      "{'productora': 'Warner Bros.', 'ganancia_total': 67156995259.0, 'cantidad': 1374}\n",
      "{'productora': 'Lancaster Gate', 'ganancia_total': 0.0, 'cantidad': 2}\n",
      "{'productora': 'Twentieth Century Fox Film Corporation', 'ganancia_total': 47687746332.0, 'cantidad': 836}\n",
      "Ingrese una productora válida\n"
     ]
    }
   ],
   "source": [
    "print(productoras(\"Pixar Animation Studios\"))\n",
    "print(productoras(\"TriStar Pictures\"))\n",
    "print(productoras(\"Teitler Film\"))\n",
    "print(productoras(\"Warner Bros.\"))\n",
    "print(productoras(\"Lancaster Gate\"))\n",
    "print(productoras(\"Twentieth Century Fox Film Corporation\"))\n",
    "print(productoras(\"sdgsd\"))"
   ]
  },
  {
   "attachments": {},
   "cell_type": "markdown",
   "metadata": {},
   "source": [
    "#### Create a function that return the investment, earning, return and release year per movie"
   ]
  },
  {
   "cell_type": "code",
   "execution_count": 86,
   "metadata": {},
   "outputs": [],
   "source": [
    "def retorno(pelicula):\n",
    "    \n",
    "    titles = list(clean_dataset[\"title\"].unique())\n",
    "    if pelicula in titles:\n",
    "        movie = clean_dataset.loc[clean_dataset[\"title\"] == pelicula]\n",
    "        movie = movie.head(1)\n",
    "        investment = movie[\"budget\"].iloc[0]\n",
    "        earning = movie[\"revenue\"].iloc[0]\n",
    "        returns = movie[\"return\"].iloc[0]\n",
    "        realese_year = movie[\"release_year\"].iloc[0]\n",
    "        return {\"pelicula\" : pelicula, \"inversion\" : round(investment, 2), \"ganacia\" : round(earning, 2), \"retorno\" : round(returns, 2), \"anio\" : realese_year}\n",
    "    else: return \"Ingrese un película válida\""
   ]
  },
  {
   "attachments": {},
   "cell_type": "markdown",
   "metadata": {},
   "source": [
    "#### Test function"
   ]
  },
  {
   "cell_type": "code",
   "execution_count": 90,
   "metadata": {},
   "outputs": [
    {
     "name": "stdout",
     "output_type": "stream",
     "text": [
      "{'pelicula': 'Manson, My Name Is Evil', 'inversion': 0.0, 'ganacia': 0.0, 'retorno': 0.0, 'anio': 2009}\n",
      "Ingrese un película válida\n"
     ]
    }
   ],
   "source": [
    "movie = clean_dataset[\"title\"].unique()\n",
    "movie = list(movie)\n",
    "random_movie = random.choice(movie)\n",
    "random_movie\n",
    "print(retorno(random_movie))\n",
    "print(retorno(\"asdno\"))"
   ]
  }
 ],
 "metadata": {
  "kernelspec": {
   "display_name": "Python 3",
   "language": "python",
   "name": "python3"
  },
  "language_info": {
   "codemirror_mode": {
    "name": "ipython",
    "version": 3
   },
   "file_extension": ".py",
   "mimetype": "text/x-python",
   "name": "python",
   "nbconvert_exporter": "python",
   "pygments_lexer": "ipython3",
   "version": "3.10.4"
  },
  "orig_nbformat": 4
 },
 "nbformat": 4,
 "nbformat_minor": 2
}
