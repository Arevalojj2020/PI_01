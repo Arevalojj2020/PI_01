{
 "cells": [
  {
   "attachments": {},
   "cell_type": "markdown",
   "metadata": {},
   "source": [
    "#### Import the modules that we will use in our recommendation system"
   ]
  },
  {
   "cell_type": "code",
   "execution_count": 1,
   "metadata": {},
   "outputs": [],
   "source": [
    "import pandas as pd\n",
    "from sklearn.feature_extraction.text import TfidfVectorizer\n",
    "from sklearn.metrics.pairwise import linear_kernel\n",
    "import random"
   ]
  },
  {
   "attachments": {},
   "cell_type": "markdown",
   "metadata": {},
   "source": [
    "#### Load the machine learnig dataset"
   ]
  },
  {
   "cell_type": "code",
   "execution_count": 2,
   "metadata": {},
   "outputs": [],
   "source": [
    "ML_dataset = pd.read_csv(\"../datasets/movies_dataset.csv\")"
   ]
  },
  {
   "attachments": {},
   "cell_type": "markdown",
   "metadata": {},
   "source": [
    "#### Drop duplicate titles to avoid repetition in the cosine similarity score"
   ]
  },
  {
   "cell_type": "code",
   "execution_count": 3,
   "metadata": {},
   "outputs": [],
   "source": [
    "ML_dataset = ML_dataset.drop_duplicates(subset = \"title\")"
   ]
  },
  {
   "attachments": {},
   "cell_type": "markdown",
   "metadata": {},
   "source": [
    "#### Calculate weighted score"
   ]
  },
  {
   "cell_type": "code",
   "execution_count": 3,
   "metadata": {},
   "outputs": [
    {
     "data": {
      "text/plain": [
       "5.618207215134185"
      ]
     },
     "execution_count": 3,
     "metadata": {},
     "output_type": "execute_result"
    }
   ],
   "source": [
    "c = ML_dataset[\"vote_average\"].mean()  # Calculate mean of vote average column\n",
    "c"
   ]
  },
  {
   "cell_type": "code",
   "execution_count": 4,
   "metadata": {},
   "outputs": [
    {
     "data": {
      "text/plain": [
       "160.0"
      ]
     },
     "execution_count": 4,
     "metadata": {},
     "output_type": "execute_result"
    }
   ],
   "source": [
    "m = ML_dataset[\"vote_count\"].quantile(0.90)  # Calculate the minimum number of votes required to be in the chart\n",
    "m"
   ]
  },
  {
   "cell_type": "code",
   "execution_count": 5,
   "metadata": {},
   "outputs": [],
   "source": [
    "ML_dataset = ML_dataset.loc[ML_dataset[\"vote_count\"] >= m]  # Filter out all qualified movies (10% of the dataset)"
   ]
  },
  {
   "cell_type": "code",
   "execution_count": 6,
   "metadata": {},
   "outputs": [],
   "source": [
    "def weighted_rating(x, m = m, c = c):   # Weighted rating function\n",
    "    v = x[\"vote_count\"]\n",
    "    R = x[\"vote_average\"]\n",
    "    return (v / (v + m) * R) + (m / (m + v) * c)"
   ]
  },
  {
   "attachments": {},
   "cell_type": "markdown",
   "metadata": {},
   "source": [
    "#### Create score column with weighted_rating funciton"
   ]
  },
  {
   "cell_type": "code",
   "execution_count": 7,
   "metadata": {},
   "outputs": [],
   "source": [
    "ML_dataset[\"score\"] = ML_dataset.apply(weighted_rating, axis = 1)"
   ]
  },
  {
   "attachments": {},
   "cell_type": "markdown",
   "metadata": {},
   "source": [
    "#### Sort movies based on score column"
   ]
  },
  {
   "cell_type": "code",
   "execution_count": 8,
   "metadata": {},
   "outputs": [],
   "source": [
    "ML_dataset = ML_dataset.sort_values(\"score\", ascending = False)"
   ]
  },
  {
   "attachments": {},
   "cell_type": "markdown",
   "metadata": {},
   "source": [
    "#### Explore movies overviews"
   ]
  },
  {
   "cell_type": "code",
   "execution_count": 9,
   "metadata": {},
   "outputs": [
    {
     "data": {
      "text/plain": [
       "314      Framed in the 1940s for the double murder of h...\n",
       "834      Spanning the years 1945 to 1955, a chronicle o...\n",
       "10309    Raj is a rich, carefree, happy-go-lucky second...\n",
       "12481    Batman raises the stakes in his war on crime. ...\n",
       "2843     A ticking-time-bomb insomniac and a slippery s...\n",
       "                               ...                        \n",
       "9710     Tim Avery, an aspiring cartoonist, finds himse...\n",
       "12911    In DISASTER MOVIE, the filmmaking team behind ...\n",
       "3471     In the year 3000, man is no match for the Psyc...\n",
       "11557    When Edward, Peter, Lucy and Susan each follow...\n",
       "13566    The young warrior Son Goku sets out on a quest...\n",
       "Name: overview, Length: 4555, dtype: object"
      ]
     },
     "execution_count": 9,
     "metadata": {},
     "output_type": "execute_result"
    }
   ],
   "source": [
    "ML_dataset[\"overview\"]"
   ]
  },
  {
   "attachments": {},
   "cell_type": "markdown",
   "metadata": {},
   "source": [
    "#### Create TF-IDF vectorizer object and remove english stopwords"
   ]
  },
  {
   "cell_type": "code",
   "execution_count": 10,
   "metadata": {},
   "outputs": [],
   "source": [
    "tfidf = TfidfVectorizer(stop_words = \"english\")"
   ]
  },
  {
   "attachments": {},
   "cell_type": "markdown",
   "metadata": {},
   "source": [
    "#### Replace NaN with an empty string"
   ]
  },
  {
   "cell_type": "code",
   "execution_count": 11,
   "metadata": {},
   "outputs": [],
   "source": [
    "ML_dataset[\"overview\"] = ML_dataset[\"overview\"].fillna('')"
   ]
  },
  {
   "attachments": {},
   "cell_type": "markdown",
   "metadata": {},
   "source": [
    "#### Create matrix "
   ]
  },
  {
   "cell_type": "code",
   "execution_count": 12,
   "metadata": {},
   "outputs": [],
   "source": [
    "tfidf_matrix = tfidf.fit_transform(ML_dataset[\"overview\"])"
   ]
  },
  {
   "attachments": {},
   "cell_type": "markdown",
   "metadata": {},
   "source": [
    "#### Map feature integer indices to feature name"
   ]
  },
  {
   "cell_type": "code",
   "execution_count": 13,
   "metadata": {},
   "outputs": [
    {
     "data": {
      "text/plain": [
       "array(['did', 'didn', 'dido', 'die', 'died', 'diego', 'dies', 'diesel',\n",
       "       'diet', 'dietary'], dtype=object)"
      ]
     },
     "execution_count": 13,
     "metadata": {},
     "output_type": "execute_result"
    }
   ],
   "source": [
    "tfidf.get_feature_names_out()[5000:5010]"
   ]
  },
  {
   "attachments": {},
   "cell_type": "markdown",
   "metadata": {},
   "source": [
    "#### Calculate cosine similarity score"
   ]
  },
  {
   "cell_type": "code",
   "execution_count": 14,
   "metadata": {},
   "outputs": [],
   "source": [
    "cosine_sim = linear_kernel(tfidf_matrix, tfidf_matrix)"
   ]
  },
  {
   "attachments": {},
   "cell_type": "markdown",
   "metadata": {},
   "source": [
    "#### Reset indexes to match with the cosine similarity array"
   ]
  },
  {
   "cell_type": "code",
   "execution_count": 15,
   "metadata": {},
   "outputs": [],
   "source": [
    "ML_dataset.reset_index(drop = True, inplace = True)"
   ]
  },
  {
   "attachments": {},
   "cell_type": "markdown",
   "metadata": {},
   "source": [
    "#### Construct a reverse map of indices and movie titles"
   ]
  },
  {
   "cell_type": "code",
   "execution_count": 18,
   "metadata": {},
   "outputs": [],
   "source": [
    "index = pd.Series(ML_dataset.index, index = ML_dataset[\"title\"]).drop_duplicates()"
   ]
  },
  {
   "attachments": {},
   "cell_type": "markdown",
   "metadata": {},
   "source": [
    "#### Create recommendation function"
   ]
  },
  {
   "cell_type": "code",
   "execution_count": 19,
   "metadata": {},
   "outputs": [],
   "source": [
    "def recomendacion(titulo, cosine_sim = cosine_sim):\n",
    "    \n",
    "    if titulo not in index:\n",
    "        return \"La película no se encuentra entre el 10% de las mejores películas. Intenta con una mejor!\"\n",
    "    \n",
    "    idx = index[titulo]\n",
    "    sim_scores = list(enumerate(cosine_sim[idx]))\n",
    "    sim_scores = sorted(sim_scores, key = lambda x: x[1], reverse = True)\n",
    "    sim_scores = sim_scores[1:6]\n",
    "    movie_indices = [i[0] for i in sim_scores]\n",
    "    result = ML_dataset[\"title\"].iloc[movie_indices]\n",
    "    return {\"lista recomendada\" : list(result)}"
   ]
  },
  {
   "attachments": {},
   "cell_type": "markdown",
   "metadata": {},
   "source": [
    "#### Test with a movie that isn´t in the final dataset"
   ]
  },
  {
   "cell_type": "code",
   "execution_count": 20,
   "metadata": {},
   "outputs": [
    {
     "name": "stdout",
     "output_type": "stream",
     "text": [
      "La película no se encuentra entre el 10% de las mejores películas. Intenta con una mejor!\n"
     ]
    }
   ],
   "source": [
    "print(recomendacion(\"Night Games\"))"
   ]
  },
  {
   "attachments": {},
   "cell_type": "markdown",
   "metadata": {},
   "source": [
    "#### Test with a random movie"
   ]
  },
  {
   "cell_type": "code",
   "execution_count": 24,
   "metadata": {},
   "outputs": [
    {
     "name": "stdout",
     "output_type": "stream",
     "text": [
      "Movie name: The Dead Pool\n",
      "\n",
      "{'lista recomendada': ['The Enforcer', 'Magnum Force', 'Sudden Impact', \"Harry Potter and the Philosopher's Stone\", 'Harry Potter and the Chamber of Secrets']}\n"
     ]
    }
   ],
   "source": [
    "random_movie = ML_dataset[\"title\"].sample(n = 1, random_state = random.randint(1, 100)).iloc[0]\n",
    "print(\"Movie name: \" + random_movie + \"\\n\")\n",
    "print(recomendacion(random_movie))"
   ]
  }
 ],
 "metadata": {
  "kernelspec": {
   "display_name": "Python 3",
   "language": "python",
   "name": "python3"
  },
  "language_info": {
   "codemirror_mode": {
    "name": "ipython",
    "version": 3
   },
   "file_extension": ".py",
   "mimetype": "text/x-python",
   "name": "python",
   "nbconvert_exporter": "python",
   "pygments_lexer": "ipython3",
   "version": "3.10.4"
  },
  "orig_nbformat": 4
 },
 "nbformat": 4,
 "nbformat_minor": 2
}
