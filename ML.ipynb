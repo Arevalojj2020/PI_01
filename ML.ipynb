{
 "cells": [
  {
   "cell_type": "code",
   "execution_count": 209,
   "metadata": {},
   "outputs": [],
   "source": [
    "# Import modules\n",
    "\n",
    "import pandas as pd\n",
    "from sklearn.feature_extraction.text import TfidfVectorizer\n",
    "from sklearn.metrics.pairwise import linear_kernel\n",
    "import random"
   ]
  },
  {
   "cell_type": "code",
   "execution_count": 210,
   "metadata": {},
   "outputs": [
    {
     "name": "stderr",
     "output_type": "stream",
     "text": [
      "C:\\Users\\Usuario\\AppData\\Local\\Temp\\ipykernel_10396\\3038092345.py:3: DtypeWarning: Columns (10) have mixed types. Specify dtype option on import or set low_memory=False.\n",
      "  ML_dataset = pd.read_csv(\"movies_dataset.csv\")\n"
     ]
    }
   ],
   "source": [
    "# Upload file\n",
    "\n",
    "ML_dataset = pd.read_csv(\"movies_dataset.csv\")"
   ]
  },
  {
   "cell_type": "code",
   "execution_count": 211,
   "metadata": {},
   "outputs": [],
   "source": [
    "# Drop duplicate titles to avoid repetition in the cosine score\n",
    "\n",
    "ML_dataset = ML_dataset.drop_duplicates(subset = \"title\")"
   ]
  },
  {
   "cell_type": "code",
   "execution_count": 212,
   "metadata": {},
   "outputs": [
    {
     "data": {
      "text/plain": [
       "5.624940274853939"
      ]
     },
     "execution_count": 212,
     "metadata": {},
     "output_type": "execute_result"
    }
   ],
   "source": [
    "# Weighted score\n",
    "\n",
    "# Calculate mean of vote average column\n",
    "\n",
    "c = ML_dataset[\"vote_average\"].mean()\n",
    "c"
   ]
  },
  {
   "cell_type": "code",
   "execution_count": 213,
   "metadata": {},
   "outputs": [
    {
     "data": {
      "text/plain": [
       "34.0"
      ]
     },
     "execution_count": 213,
     "metadata": {},
     "output_type": "execute_result"
    }
   ],
   "source": [
    "# Calculate the minimum number of votes required to be in the chart\n",
    "\n",
    "m = ML_dataset[\"vote_count\"].quantile(0.75)\n",
    "m\n"
   ]
  },
  {
   "cell_type": "code",
   "execution_count": 214,
   "metadata": {},
   "outputs": [],
   "source": [
    "# Filter out all qualified movies into a new DataFrame\n",
    "\n",
    "ML_dataset = ML_dataset.loc[ML_dataset[\"vote_count\"] >= m]"
   ]
  },
  {
   "cell_type": "code",
   "execution_count": 215,
   "metadata": {},
   "outputs": [],
   "source": [
    "# Weighted rating function\n",
    "\n",
    "def weighted_rating(x, m = m, c = c):\n",
    "    v = x[\"vote_count\"]\n",
    "    R = x[\"vote_average\"]\n",
    "    return (v / (v + m) * R) + (m / (m + v) * c)"
   ]
  },
  {
   "cell_type": "code",
   "execution_count": 216,
   "metadata": {},
   "outputs": [],
   "source": [
    "# Score column with weighted_rating funciton\n",
    "\n",
    "ML_dataset[\"score\"] = ML_dataset.apply(weighted_rating, axis=1)"
   ]
  },
  {
   "cell_type": "code",
   "execution_count": 217,
   "metadata": {},
   "outputs": [],
   "source": [
    "# Sort movies based on score column\n",
    "\n",
    "ML_dataset = ML_dataset.sort_values(\"score\", ascending = False)"
   ]
  },
  {
   "cell_type": "code",
   "execution_count": 218,
   "metadata": {},
   "outputs": [
    {
     "data": {
      "text/plain": [
       "10309    Raj is a rich, carefree, happy-go-lucky second...\n",
       "314      Framed in the 1940s for the double murder of h...\n",
       "834      Spanning the years 1945 to 1955, a chronicle o...\n",
       "40251    High schoolers Mitsuha and Taki are complete s...\n",
       "12481    Batman raises the stakes in his war on crime. ...\n",
       "                               ...                        \n",
       "8607     A family gets lost on the road and stumbles up...\n",
       "3471     In the year 3000, man is no match for the Psyc...\n",
       "17708    A platoon of eagles and vultures attacks the r...\n",
       "13566    The young warrior Son Goku sets out on a quest...\n",
       "26559                           A sequel to Avatar (2009).\n",
       "Name: overview, Length: 10763, dtype: object"
      ]
     },
     "execution_count": 218,
     "metadata": {},
     "output_type": "execute_result"
    }
   ],
   "source": [
    "# Explore movies overview\n",
    "\n",
    "ML_dataset[\"overview\"]"
   ]
  },
  {
   "cell_type": "code",
   "execution_count": 219,
   "metadata": {},
   "outputs": [],
   "source": [
    "# Create TF-IDF vectorizer object and remove english stopwords\n",
    "\n",
    "tfidf = TfidfVectorizer(stop_words = \"english\")"
   ]
  },
  {
   "cell_type": "code",
   "execution_count": 220,
   "metadata": {},
   "outputs": [],
   "source": [
    "# Replace NaN with an empty string\n",
    "\n",
    "ML_dataset[\"overview\"] = ML_dataset[\"overview\"].fillna('')"
   ]
  },
  {
   "cell_type": "code",
   "execution_count": 221,
   "metadata": {},
   "outputs": [],
   "source": [
    "# Create matrix \n",
    "\n",
    "tfidf_matrix = tfidf.fit_transform(ML_dataset[\"overview\"])"
   ]
  },
  {
   "cell_type": "code",
   "execution_count": 222,
   "metadata": {},
   "outputs": [
    {
     "data": {
      "text/plain": [
       "array(['ceremonies', 'ceremony', 'certain', 'certainly', 'certains',\n",
       "       'certainties', 'certainty', 'certificate', 'cesar', 'cesare'],\n",
       "      dtype=object)"
      ]
     },
     "execution_count": 222,
     "metadata": {},
     "output_type": "execute_result"
    }
   ],
   "source": [
    "# Map feature integer indices to feature name\n",
    "\n",
    "tfidf.get_feature_names_out()[5000:5010]"
   ]
  },
  {
   "cell_type": "code",
   "execution_count": 223,
   "metadata": {},
   "outputs": [],
   "source": [
    "# Cosine similarity score\n",
    "\n",
    "cosine_sim = linear_kernel(tfidf_matrix, tfidf_matrix)"
   ]
  },
  {
   "cell_type": "code",
   "execution_count": 224,
   "metadata": {},
   "outputs": [],
   "source": [
    "# Reset indeces to match with the cosine similarity array\n",
    "\n",
    "ML_dataset.reset_index(drop = True, inplace = True)"
   ]
  },
  {
   "cell_type": "code",
   "execution_count": 225,
   "metadata": {},
   "outputs": [],
   "source": [
    "#Construct a reverse map of indices and movie titles\n",
    "\n",
    "index = pd.Series(ML_dataset.index, index = ML_dataset[\"title\"]).drop_duplicates()"
   ]
  },
  {
   "cell_type": "code",
   "execution_count": 237,
   "metadata": {},
   "outputs": [],
   "source": [
    "# Create recommendation function\n",
    "\n",
    "def recomendacion(titulo, cosine_sim = cosine_sim):\n",
    "    \n",
    "    if titulo not in index:\n",
    "        return \"La película no se encuentra en el top 25 de mejores películas. Intenta con una mejor!\"\n",
    "    \n",
    "    idx = index[titulo]\n",
    "    sim_scores = list(enumerate(cosine_sim[idx]))\n",
    "    sim_scores = sorted(sim_scores, key = lambda x: x[1], reverse = True)\n",
    "    sim_scores = sim_scores[1:6]\n",
    "    movie_indices = [i[0] for i in sim_scores]\n",
    "    result = ML_dataset[\"title\"].iloc[movie_indices]\n",
    "    return {\"lista recomendada\" : list(result)}"
   ]
  },
  {
   "cell_type": "code",
   "execution_count": 245,
   "metadata": {},
   "outputs": [
    {
     "name": "stdout",
     "output_type": "stream",
     "text": [
      "La película no se encuentra en el top 25 de mejores películas. Intenta con una mejor!\n"
     ]
    }
   ],
   "source": [
    "print(recomendacion(\"Night Games\"))"
   ]
  },
  {
   "cell_type": "code",
   "execution_count": 243,
   "metadata": {},
   "outputs": [
    {
     "name": "stdout",
     "output_type": "stream",
     "text": [
      "Movie name: R-Point\n",
      "\n",
      "{'lista recomendada': ['American Ninja', 'Bloody Sunday', 'How I Ended This Summer', 'The Signal', 'Stalingrad']}\n"
     ]
    }
   ],
   "source": [
    "# Test with a random movie\n",
    "\n",
    "random_movie = ML_dataset[\"title\"].sample(n = 1, random_state = random.randint(1, 100)).iloc[0]\n",
    "print(\"Movie name: \" + random_movie + \"\\n\")\n",
    "print(recomendacion(random_movie))"
   ]
  }
 ],
 "metadata": {
  "kernelspec": {
   "display_name": "Python 3",
   "language": "python",
   "name": "python3"
  },
  "language_info": {
   "codemirror_mode": {
    "name": "ipython",
    "version": 3
   },
   "file_extension": ".py",
   "mimetype": "text/x-python",
   "name": "python",
   "nbconvert_exporter": "python",
   "pygments_lexer": "ipython3",
   "version": "3.10.4"
  },
  "orig_nbformat": 4
 },
 "nbformat": 4,
 "nbformat_minor": 2
}
