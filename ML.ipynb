{
 "cells": [
  {
   "cell_type": "code",
   "execution_count": 348,
   "metadata": {},
   "outputs": [],
   "source": [
    "# Import modules\n",
    "\n",
    "import pandas as pd\n",
    "from sklearn.feature_extraction.text import TfidfVectorizer\n",
    "from sklearn.metrics.pairwise import linear_kernel\n",
    "import random"
   ]
  },
  {
   "cell_type": "code",
   "execution_count": 349,
   "metadata": {},
   "outputs": [
    {
     "name": "stderr",
     "output_type": "stream",
     "text": [
      "C:\\Users\\Usuario\\AppData\\Local\\Temp\\ipykernel_12752\\1551171906.py:3: DtypeWarning: Columns (10) have mixed types. Specify dtype option on import or set low_memory=False.\n",
      "  df = pd.read_csv(\"movies_dataset.csv\")\n"
     ]
    }
   ],
   "source": [
    "# Upload file\n",
    "\n",
    "df = pd.read_csv(\"movies_dataset.csv\")"
   ]
  },
  {
   "cell_type": "code",
   "execution_count": 350,
   "metadata": {},
   "outputs": [
    {
     "data": {
      "text/plain": [
       "0        Led by Woody, Andy's toys live happily in his ...\n",
       "1        When siblings Judy and Peter discover an encha...\n",
       "2        A family wedding reignites the ancient feud be...\n",
       "3        Cheated on, mistreated and stepped on, the wom...\n",
       "4        Just when George Banks has recovered from his ...\n",
       "                               ...                        \n",
       "45461          Rising and falling between a man and woman.\n",
       "45462    An artist struggles to finish his work while a...\n",
       "45463    When one of her hits goes wrong, a professiona...\n",
       "45464    In a small town live two brothers, one a minis...\n",
       "45465    50 years after decriminalisation of homosexual...\n",
       "Name: overview, Length: 45466, dtype: object"
      ]
     },
     "execution_count": 350,
     "metadata": {},
     "output_type": "execute_result"
    }
   ],
   "source": [
    "# Explore movies overview\n",
    "\n",
    "df[\"overview\"]"
   ]
  },
  {
   "cell_type": "code",
   "execution_count": 351,
   "metadata": {},
   "outputs": [],
   "source": [
    "# Create TF-IDF vectorizer object and remove english stopwords\n",
    "\n",
    "tfidf = TfidfVectorizer(stop_words = \"english\")"
   ]
  },
  {
   "cell_type": "code",
   "execution_count": 352,
   "metadata": {},
   "outputs": [],
   "source": [
    "# Replace NaN with an empty string\n",
    "\n",
    "df[\"overview\"] = df[\"overview\"].fillna('')"
   ]
  },
  {
   "cell_type": "code",
   "execution_count": 353,
   "metadata": {},
   "outputs": [
    {
     "name": "stdout",
     "output_type": "stream",
     "text": [
      "(11366, 34618)\n",
      "(11368, 39755)\n"
     ]
    }
   ],
   "source": [
    "# Create matrix \n",
    "\n",
    "# Split dataset in 4 matrix\n",
    "\n",
    "tfidf_matrix_1 = tfidf.fit_transform(df[\"overview\"][:11366])\n",
    "tfidf_matrix_2 = tfidf.fit_transform(df[\"overview\"][11366:22732])\n",
    "tfidf_matrix_3 = tfidf.fit_transform(df[\"overview\"][22732:34098])\n",
    "tfidf_matrix_4 = tfidf.fit_transform(df[\"overview\"][34098:])\n",
    "print(tfidf_matrix_1.shape)\n",
    "print(tfidf_matrix_4.shape)"
   ]
  },
  {
   "cell_type": "code",
   "execution_count": 354,
   "metadata": {},
   "outputs": [
    {
     "data": {
      "text/plain": [
       "array(['bullying', 'bulthuis', 'bulying', 'bum', 'buma', 'bumblebee',\n",
       "       'bumblefuck', 'bumbling', 'bumblyburg', 'bummer'], dtype=object)"
      ]
     },
     "execution_count": 354,
     "metadata": {},
     "output_type": "execute_result"
    }
   ],
   "source": [
    "# Map feature integer indices to feature name\n",
    "\n",
    "tfidf.get_feature_names_out()[5000:5010]"
   ]
  },
  {
   "cell_type": "code",
   "execution_count": 355,
   "metadata": {},
   "outputs": [
    {
     "name": "stdout",
     "output_type": "stream",
     "text": [
      "(11366, 11366)\n",
      "[0.01663203 1.         0.0495894  ... 0.         0.00724599 0.        ]\n"
     ]
    }
   ],
   "source": [
    "# Cosine similarity scores\n",
    "\n",
    "cosine_sim_1 = linear_kernel(tfidf_matrix_1, tfidf_matrix_1)\n",
    "print(cosine_sim_1.shape)\n",
    "print(cosine_sim_1[1])"
   ]
  },
  {
   "cell_type": "code",
   "execution_count": 356,
   "metadata": {},
   "outputs": [
    {
     "name": "stdout",
     "output_type": "stream",
     "text": [
      "(11366, 11366)\n",
      "[0.         1.         0.         ... 0.         0.         0.01627106]\n"
     ]
    }
   ],
   "source": [
    "cosine_sim_2 = linear_kernel(tfidf_matrix_2, tfidf_matrix_2)\n",
    "print(cosine_sim_2.shape)\n",
    "print(cosine_sim_2[1])"
   ]
  },
  {
   "cell_type": "code",
   "execution_count": 357,
   "metadata": {},
   "outputs": [
    {
     "name": "stdout",
     "output_type": "stream",
     "text": [
      "(11366, 11366)\n",
      "[0.         1.         1.         ... 0.         0.         0.02041596]\n"
     ]
    }
   ],
   "source": [
    "cosine_sim_3 = linear_kernel(tfidf_matrix_3, tfidf_matrix_3)\n",
    "print(cosine_sim_3.shape)\n",
    "print(cosine_sim_3[1])"
   ]
  },
  {
   "cell_type": "code",
   "execution_count": 358,
   "metadata": {},
   "outputs": [
    {
     "name": "stdout",
     "output_type": "stream",
     "text": [
      "(11368, 11368)\n",
      "[0. 1. 0. ... 0. 0. 0.]\n"
     ]
    }
   ],
   "source": [
    "cosine_sim_4 = linear_kernel(tfidf_matrix_4, tfidf_matrix_4)\n",
    "print(cosine_sim_4.shape)\n",
    "print(cosine_sim_4[1])"
   ]
  },
  {
   "cell_type": "code",
   "execution_count": 359,
   "metadata": {},
   "outputs": [],
   "source": [
    "#Construct reverse maps of indices and movie titles\n",
    "\n",
    "index_1 = df[\"title\"][:11366]\n",
    "index_1.reset_index(drop = True, inplace = True)\n",
    "index_1.drop_duplicates(inplace=True)\n",
    "serie_1 = pd.Series(index_1.index)\n",
    "df_index_1 = pd.DataFrame({\"title\":index_1.values, \"indices\":serie_1.values})\n",
    "df_index_1.set_index(\"title\")\n",
    "serie_index_1 = pd.Series(df_index_1.index, index = df_index_1[\"title\"]).drop_duplicates()"
   ]
  },
  {
   "cell_type": "code",
   "execution_count": 360,
   "metadata": {},
   "outputs": [],
   "source": [
    "index_2 = df[\"title\"][11366:22732]\n",
    "index_2.reset_index(drop = True, inplace = True)\n",
    "index_2.drop_duplicates(inplace=True)\n",
    "serie_2 = pd.Series(index_2.index)\n",
    "df_index_2 = pd.DataFrame({\"title\":index_2.values, \"indices\":serie_2.values})\n",
    "df_index_2.set_index(\"title\")\n",
    "serie_index_2 = pd.Series(df_index_2.index, index = df_index_2[\"title\"]).drop_duplicates()"
   ]
  },
  {
   "cell_type": "code",
   "execution_count": 361,
   "metadata": {},
   "outputs": [],
   "source": [
    "index_3 = df[\"title\"][22732:34098]\n",
    "index_3.reset_index(drop = True, inplace = True)\n",
    "index_3.drop_duplicates(inplace=True)\n",
    "serie_3 = pd.Series(index_3.index)\n",
    "df_index_3 = pd.DataFrame({\"title\":index_3.values, \"indices\":serie_3.values})\n",
    "df_index_3.set_index(\"title\")\n",
    "serie_index_3 = pd.Series(df_index_3.index, index = df_index_3[\"title\"]).drop_duplicates()"
   ]
  },
  {
   "cell_type": "code",
   "execution_count": 362,
   "metadata": {},
   "outputs": [],
   "source": [
    "index_4 = df[\"title\"][34098:]\n",
    "index_4.reset_index(drop = True, inplace = True)\n",
    "index_4.drop_duplicates(inplace=True)\n",
    "serie_4 = pd.Series(index_4.index)\n",
    "df_index_4 = pd.DataFrame({\"title\":index_4.values, \"indices\":serie_4.values})\n",
    "df_index_4.set_index(\"title\")\n",
    "serie_index_4 = pd.Series(df_index_4.index, index = df_index_4[\"title\"]).drop_duplicates()"
   ]
  },
  {
   "cell_type": "code",
   "execution_count": 363,
   "metadata": {},
   "outputs": [],
   "source": [
    "# Create function\n",
    "\n",
    "# Receive a movie and search for it among the four cosine similarity scores\n",
    "\n",
    "def recomendacion(titulo):\n",
    "    functions = [get_recommendations_1, get_recommendations_2, get_recommendations_3, get_recommendations_4]\n",
    "    \n",
    "    for function in functions:\n",
    "        try:\n",
    "            result = function(titulo)\n",
    "            return {\"lista recomendada\":list(result)}\n",
    "        except Exception:\n",
    "            pass\n",
    "\n",
    "    return \"Movie not found. Please try another one!\"\n",
    "            \n",
    "# Functions use the cosine_sim score to find similar movies\n",
    "\n",
    "def get_recommendations_1(titulo, cosine_sim = cosine_sim_1):\n",
    "    idx = serie_index_1[titulo]\n",
    "    sim_scores = list(enumerate(cosine_sim[idx]))\n",
    "    sim_scores = sorted(sim_scores, key = lambda x: x[1], reverse = True)\n",
    "    sim_scores = sim_scores[1:6]\n",
    "    movie_indices = [i[0] for i in sim_scores]\n",
    "    return df[\"title\"].iloc[movie_indices]\n",
    "\n",
    "\n",
    "def get_recommendations_2(titulo, cosine_sim = cosine_sim_2):\n",
    "    idx = serie_index_2[titulo]\n",
    "    sim_scores = list(enumerate(cosine_sim[idx]))\n",
    "    sim_scores = sorted(sim_scores, key = lambda x: x[1], reverse = True)\n",
    "    sim_scores = sim_scores[1:6]\n",
    "    movie_indices = [i[0] for i in sim_scores]\n",
    "    return df[\"title\"].iloc[movie_indices]\n",
    "\n",
    "\n",
    "def get_recommendations_3(titulo, cosine_sim = cosine_sim_3):\n",
    "    idx = serie_index_3[titulo]\n",
    "    sim_scores = list(enumerate(cosine_sim[idx]))\n",
    "    sim_scores = sorted(sim_scores, key = lambda x: x[1], reverse = True)\n",
    "    sim_scores = sim_scores[1:6]\n",
    "    movie_indices = [i[0] for i in sim_scores]\n",
    "    return df[\"title\"].iloc[movie_indices]\n",
    "\n",
    "def get_recommendations_4(titulo, cosine_sim = cosine_sim_4):\n",
    "    idx = serie_index_4[titulo]\n",
    "    sim_scores = list(enumerate(cosine_sim[idx]))\n",
    "    sim_scores = sorted(sim_scores, key = lambda x: x[1], reverse = True)\n",
    "    sim_scores = sim_scores[1:6]\n",
    "    movie_indices = [i[0] for i in sim_scores]\n",
    "    return df[\"title\"].iloc[movie_indices]"
   ]
  },
  {
   "cell_type": "code",
   "execution_count": 405,
   "metadata": {},
   "outputs": [
    {
     "name": "stdout",
     "output_type": "stream",
     "text": [
      "{'lista recomendada': ['Lorna', 'Calamari Union', 'La Vie de Bohème', 'Jennifer Eight', 'The Commitments']}\n"
     ]
    }
   ],
   "source": [
    "# Test with a random movie\n",
    "\n",
    "random_movie = df[\"title\"].sample(n = 1, random_state = random.randint(1, 100)).iloc[0]\n",
    "print(recomendacion(random_movie))"
   ]
  },
  {
   "cell_type": "code",
   "execution_count": 406,
   "metadata": {},
   "outputs": [
    {
     "data": {
      "text/plain": [
       "'At the Ends of the Earth'"
      ]
     },
     "execution_count": 406,
     "metadata": {},
     "output_type": "execute_result"
    }
   ],
   "source": [
    "random_movie"
   ]
  }
 ],
 "metadata": {
  "kernelspec": {
   "display_name": "Python 3",
   "language": "python",
   "name": "python3"
  },
  "language_info": {
   "codemirror_mode": {
    "name": "ipython",
    "version": 3
   },
   "file_extension": ".py",
   "mimetype": "text/x-python",
   "name": "python",
   "nbconvert_exporter": "python",
   "pygments_lexer": "ipython3",
   "version": "3.10.4"
  },
  "orig_nbformat": 4
 },
 "nbformat": 4,
 "nbformat_minor": 2
}
